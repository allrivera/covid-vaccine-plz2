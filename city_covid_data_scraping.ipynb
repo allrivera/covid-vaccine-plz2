{
 "cells": [
  {
   "cell_type": "code",
   "execution_count": 4,
   "metadata": {},
   "outputs": [],
   "source": [
    "import os, ssl\n",
    "import requests\n",
    "import pandas as pd\n",
    "from splinter import Browser\n",
    "from bs4 import BeautifulSoup as bs"
   ]
  },
  {
   "cell_type": "code",
   "execution_count": 5,
   "metadata": {},
   "outputs": [],
   "source": [
    "executable_path = {'executable_path': 'chromedriver.exe'}\n",
    "browser = Browser('chrome', **executable_path, headless=False)"
   ]
  },
  {
   "cell_type": "markdown",
   "metadata": {},
   "source": [
    "# Covid Cases per City in OC  "
   ]
  },
  {
   "cell_type": "code",
   "execution_count": 6,
   "metadata": {},
   "outputs": [],
   "source": [
    "url = \"https://ochca.maps.arcgis.com/apps/opsdashboard/index.html#/5839a554eaac45c2b8e05dacc74c3bec\"\n",
    "browser.visit(url)"
   ]
  },
  {
   "cell_type": "code",
   "execution_count": 7,
   "metadata": {},
   "outputs": [],
   "source": [
    "html = browser.html\n",
    "soup = bs(html,'html.parser')\n",
    "data = soup.find_all(\"div\", class_=\"external-html\")"
   ]
  },
  {
   "cell_type": "code",
   "execution_count": 8,
   "metadata": {},
   "outputs": [],
   "source": [
    "confirmed_case_city = []\n",
    "for i in data:\n",
    "    a = i.find(\"p\").text\n",
    "    b = a.split(\"-\")\n",
    "    city_name = b[0][:-1]\n",
    "    if (len(b)>1):\n",
    "        confirmed_case = b[1].split(\" \")[0][1:-6]\n",
    "        if(confirmed_case):\n",
    "            confirmed_case_city.append([city_name,confirmed_case])    "
   ]
  },
  {
   "cell_type": "code",
   "execution_count": 9,
   "metadata": {},
   "outputs": [],
   "source": [
    "oc_case_df = pd.DataFrame(confirmed_case_city)"
   ]
  },
  {
   "cell_type": "code",
   "execution_count": 10,
   "metadata": {},
   "outputs": [],
   "source": [
    "oc_case_df[\"County\"]=\"\"\n",
    "oc_case_df[\"Death_case\"] = \"\""
   ]
  },
  {
   "cell_type": "code",
   "execution_count": 11,
   "metadata": {},
   "outputs": [],
   "source": [
    "oc_case_df.columns = [\"City\", \"Confirmed_case\", \"County\", \"Death_case\"]"
   ]
  },
  {
   "cell_type": "code",
   "execution_count": 12,
   "metadata": {},
   "outputs": [],
   "source": [
    "for index,row in oc_case_df.iterrows():\n",
    "    oc_case_df.loc[index,\"County\"] = \"Orange\""
   ]
  },
  {
   "cell_type": "code",
   "execution_count": 13,
   "metadata": {
    "scrolled": true
   },
   "outputs": [],
   "source": [
    "orange_county_df = oc_case_df[[\"County\",\"City\",\"Confirmed_case\",\"Death_case\"]]"
   ]
  },
  {
   "cell_type": "code",
   "execution_count": 14,
   "metadata": {},
   "outputs": [
    {
     "data": {
      "text/html": [
       "<div>\n",
       "<style scoped>\n",
       "    .dataframe tbody tr th:only-of-type {\n",
       "        vertical-align: middle;\n",
       "    }\n",
       "\n",
       "    .dataframe tbody tr th {\n",
       "        vertical-align: top;\n",
       "    }\n",
       "\n",
       "    .dataframe thead th {\n",
       "        text-align: right;\n",
       "    }\n",
       "</style>\n",
       "<table border=\"1\" class=\"dataframe\">\n",
       "  <thead>\n",
       "    <tr style=\"text-align: right;\">\n",
       "      <th></th>\n",
       "      <th>County</th>\n",
       "      <th>City</th>\n",
       "      <th>Confirmed_case</th>\n",
       "      <th>Death_case</th>\n",
       "    </tr>\n",
       "  </thead>\n",
       "  <tbody>\n",
       "    <tr>\n",
       "      <th>0</th>\n",
       "      <td>Orange</td>\n",
       "      <td>Aliso Viejo</td>\n",
       "      <td>215</td>\n",
       "      <td></td>\n",
       "    </tr>\n",
       "    <tr>\n",
       "      <th>1</th>\n",
       "      <td>Orange</td>\n",
       "      <td>Anaheim</td>\n",
       "      <td>4792</td>\n",
       "      <td></td>\n",
       "    </tr>\n",
       "    <tr>\n",
       "      <th>2</th>\n",
       "      <td>Orange</td>\n",
       "      <td>Brea</td>\n",
       "      <td>248</td>\n",
       "      <td></td>\n",
       "    </tr>\n",
       "    <tr>\n",
       "      <th>3</th>\n",
       "      <td>Orange</td>\n",
       "      <td>Buena Park</td>\n",
       "      <td>765</td>\n",
       "      <td></td>\n",
       "    </tr>\n",
       "    <tr>\n",
       "      <th>4</th>\n",
       "      <td>Orange</td>\n",
       "      <td>Costa Mesa</td>\n",
       "      <td>865</td>\n",
       "      <td></td>\n",
       "    </tr>\n",
       "  </tbody>\n",
       "</table>\n",
       "</div>"
      ],
      "text/plain": [
       "   County         City Confirmed_case Death_case\n",
       "0  Orange  Aliso Viejo            215           \n",
       "1  Orange      Anaheim           4792           \n",
       "2  Orange         Brea            248           \n",
       "3  Orange   Buena Park            765           \n",
       "4  Orange   Costa Mesa            865           "
      ]
     },
     "execution_count": 14,
     "metadata": {},
     "output_type": "execute_result"
    }
   ],
   "source": [
    "orange_county_df.head()"
   ]
  },
  {
   "cell_type": "markdown",
   "metadata": {},
   "source": [
    "# Covid Cases per City in LA County¶"
   ]
  },
  {
   "cell_type": "code",
   "execution_count": null,
   "metadata": {},
   "outputs": [],
   "source": [
    "url = \"http://publichealth.lacounty.gov/media/Coronavirus/locations.htm\"\n",
    "browser.visit(url)"
   ]
  },
  {
   "cell_type": "code",
   "execution_count": null,
   "metadata": {},
   "outputs": [],
   "source": [
    "html = browser.html\n",
    "soup = bs(html,'html.parser')\n",
    "data = soup.find_all(\"tr\")"
   ]
  },
  {
   "cell_type": "code",
   "execution_count": null,
   "metadata": {},
   "outputs": [],
   "source": [
    "LA_case = []\n",
    "for row in data:\n",
    "    list_td = row.find_all(\"td\")\n",
    "    temp_list = []\n",
    "    for item in list_td:\n",
    "        if(item.text):\n",
    "            temp_list.append(item.text)\n",
    "    if(temp_list):\n",
    "        if \"City of \" in temp_list[0]:\n",
    "            city_data = temp_list[0][8:];\n",
    "            temp_list[0] = city_data;\n",
    "            LA_case.append(temp_list)"
   ]
  },
  {
   "cell_type": "code",
   "execution_count": null,
   "metadata": {},
   "outputs": [],
   "source": [
    "la_case_df = pd.DataFrame(LA_case)\n",
    "la_case_df.columns= [\"City\", \"Confirmed_case\", \"Case_Rate\", \"Death_case\", \"Death_Rate\"]"
   ]
  },
  {
   "cell_type": "code",
   "execution_count": null,
   "metadata": {
    "scrolled": true
   },
   "outputs": [],
   "source": [
    "la_case_df[\"County\"]=\"\""
   ]
  },
  {
   "cell_type": "code",
   "execution_count": null,
   "metadata": {},
   "outputs": [],
   "source": [
    "for index,row in la_case_df.iterrows():\n",
    "    la_case_df.loc[index,\"County\"] = \"Los Angeles\""
   ]
  },
  {
   "cell_type": "code",
   "execution_count": null,
   "metadata": {},
   "outputs": [],
   "source": [
    "la_county_df = la_case_df[[\"County\",\"City\",\"Confirmed_case\",\"Death_case\"]]\n",
    "la_county_df.head()"
   ]
  },
  {
   "cell_type": "markdown",
   "metadata": {},
   "source": [
    "# Covid Cases per City in San Diego County"
   ]
  },
  {
   "cell_type": "code",
   "execution_count": null,
   "metadata": {},
   "outputs": [],
   "source": [
    "import tabula\n",
    "from tabula import read_pdf"
   ]
  },
  {
   "cell_type": "code",
   "execution_count": null,
   "metadata": {},
   "outputs": [],
   "source": [
    "url = \"https://www.sandiegocounty.gov/content/dam/sdc/hhsa/programs/phs/Epidemiology/COVID-19%20Daily%20Update_City%20of%20Residence.pdf\""
   ]
  },
  {
   "cell_type": "code",
   "execution_count": null,
   "metadata": {
    "scrolled": true
   },
   "outputs": [],
   "source": [
    "df = read_pdf(url)"
   ]
  },
  {
   "cell_type": "code",
   "execution_count": null,
   "metadata": {},
   "outputs": [],
   "source": [
    "sandiego_df = df[0].drop([0])"
   ]
  },
  {
   "cell_type": "code",
   "execution_count": null,
   "metadata": {},
   "outputs": [],
   "source": [
    "sandiego_df.head()"
   ]
  },
  {
   "cell_type": "code",
   "execution_count": null,
   "metadata": {
    "scrolled": true
   },
   "outputs": [],
   "source": [
    "for index,row in sandiego_df.iterrows():\n",
    "    split_data = row[1].split()\n",
    "    length = len(split_data)\n",
    "    count = split_data[0]\n",
    "    if(length==3):\n",
    "        percentage_total = split_data[1]\n",
    "        rate_per_100000 = split_data[2]\n",
    "    elif (length==2):\n",
    "        percentage_total = split_data[1]\n",
    "        rate_per_100000 = \"\"\n",
    "    elif(length==1):\n",
    "        percentage_total = \"\"\n",
    "        rate_per_100000 = \"\"\n",
    "    sandiego_df.loc[index,\"count\"] = count\n",
    "    sandiego_df.loc[index,\"percentage_total\"] = percentage_total\n",
    "    sandiego_df.loc[index,\"rate_per_100000\"] = rate_per_100000"
   ]
  },
  {
   "cell_type": "code",
   "execution_count": null,
   "metadata": {},
   "outputs": [],
   "source": [
    "sandiego_df.columns = [\"City\", \"Summary\", \"Confirmed_case\", \"Total_Rate\", \"Rate_per_10000\"]"
   ]
  },
  {
   "cell_type": "code",
   "execution_count": null,
   "metadata": {
    "scrolled": true
   },
   "outputs": [],
   "source": [
    "sandiego_df[\"County\"]=\"\"\n",
    "sandiego_df[\"Death_case\"]=\"\""
   ]
  },
  {
   "cell_type": "code",
   "execution_count": null,
   "metadata": {},
   "outputs": [],
   "source": [
    "for index,row in sandiego_df.iterrows():\n",
    "    sandiego_df.loc[index,\"County\"] = \"San Diego\""
   ]
  },
  {
   "cell_type": "code",
   "execution_count": null,
   "metadata": {},
   "outputs": [],
   "source": [
    "sandiego_county_df = sandiego_df[[\"County\",\"City\",\"Confirmed_case\",\"Death_case\"]]\n",
    "sandiego_county_df.head()"
   ]
  },
  {
   "cell_type": "markdown",
   "metadata": {},
   "source": [
    "# Covid Cases per City in Santa Barbara County"
   ]
  },
  {
   "cell_type": "code",
   "execution_count": null,
   "metadata": {},
   "outputs": [],
   "source": [
    "url = \"https://publichealthsbc.org/status-reports/\"\n",
    "browser.visit(url)"
   ]
  },
  {
   "cell_type": "code",
   "execution_count": null,
   "metadata": {},
   "outputs": [],
   "source": [
    "html = browser.html\n",
    "soup = bs(html,'html.parser')\n",
    "data = soup.find_all(\"table\")"
   ]
  },
  {
   "cell_type": "code",
   "execution_count": null,
   "metadata": {},
   "outputs": [],
   "source": [
    "a = data[0].find_all(\"tr\")"
   ]
  },
  {
   "cell_type": "code",
   "execution_count": null,
   "metadata": {},
   "outputs": [],
   "source": [
    "sb_list = []\n",
    "for i in a:\n",
    "    j = i.find_all(\"td\")\n",
    "    temp_data = []\n",
    "    for data in j:\n",
    "        temp_data.append(data.text)\n",
    "    sb_list.append(temp_data)\n"
   ]
  },
  {
   "cell_type": "code",
   "execution_count": null,
   "metadata": {},
   "outputs": [],
   "source": [
    "sb_df = pd.DataFrame(sb_list)"
   ]
  },
  {
   "cell_type": "code",
   "execution_count": null,
   "metadata": {
    "scrolled": true
   },
   "outputs": [],
   "source": [
    "sb_df[\"County\"]=\"\"\n",
    "sb_df"
   ]
  },
  {
   "cell_type": "code",
   "execution_count": null,
   "metadata": {},
   "outputs": [],
   "source": [
    "sb_df.columns = [\"City\", \"DailyCases\", \"Confirmed_case\",\"recovered\",\"active\",\"Death_case\",\"County\"]"
   ]
  },
  {
   "cell_type": "code",
   "execution_count": null,
   "metadata": {},
   "outputs": [],
   "source": [
    "sb_df.drop([0],inplace=True)"
   ]
  },
  {
   "cell_type": "code",
   "execution_count": null,
   "metadata": {},
   "outputs": [],
   "source": [
    "for index,row in sb_df.iterrows():\n",
    "    sb_df.loc[index,\"County\"] = \"Santa Barbara\""
   ]
  },
  {
   "cell_type": "code",
   "execution_count": null,
   "metadata": {},
   "outputs": [],
   "source": [
    "santabarbara_county_df=sb_df[[\"County\",\"City\",\"Confirmed_case\",\"Death_case\"]]\n",
    "santabarbara_county_df"
   ]
  },
  {
   "cell_type": "markdown",
   "metadata": {},
   "source": [
    "# Covid Cases per City in Riverside County"
   ]
  },
  {
   "cell_type": "code",
   "execution_count": null,
   "metadata": {},
   "outputs": [],
   "source": [
    "import tabula\n",
    "from tabula import read_pdf"
   ]
  },
  {
   "cell_type": "code",
   "execution_count": null,
   "metadata": {},
   "outputs": [],
   "source": [
    "url = \"https://www.rivcoph.org/Portals/0/Documents/CoronaVirus/July/Dashboard/2/City_Report_071320.pdf?ver=2020-07-13-151405-373&timestamp=1594678461087\"\n",
    "df = read_pdf(url)"
   ]
  },
  {
   "cell_type": "code",
   "execution_count": null,
   "metadata": {
    "scrolled": true
   },
   "outputs": [],
   "source": [
    "riverside_df = df[0]\n",
    "riverside_df[\"County\"]=\"\""
   ]
  },
  {
   "cell_type": "code",
   "execution_count": null,
   "metadata": {},
   "outputs": [],
   "source": [
    "for index,row in riverside_df.iterrows():\n",
    "    riverside_df.loc[index,\"County\"] = \"Riverside\""
   ]
  },
  {
   "cell_type": "code",
   "execution_count": null,
   "metadata": {},
   "outputs": [],
   "source": [
    "riverside_df.columns=[\"City\",\"Confirmed_case\",\"Death_case\",\"Percentage\",\"County\"]"
   ]
  },
  {
   "cell_type": "code",
   "execution_count": null,
   "metadata": {},
   "outputs": [],
   "source": [
    "riverside_county_df=riverside_df[[\"County\",\"City\",\"Confirmed_case\",\"Death_case\"]]\n",
    "riverside_county_df.head()"
   ]
  },
  {
   "cell_type": "markdown",
   "metadata": {},
   "source": [
    "# Covid Cases per City in San Bernadino County"
   ]
  },
  {
   "cell_type": "code",
   "execution_count": null,
   "metadata": {},
   "outputs": [],
   "source": [
    "import os"
   ]
  },
  {
   "cell_type": "code",
   "execution_count": null,
   "metadata": {
    "scrolled": true
   },
   "outputs": [],
   "source": [
    "url1 = \"Resources/COVID-19 PC Surveillance Dashboard_confirmed_files/saved_resource.html\"\n",
    "# url2 = \"COVID-19 PC Surveillance Dashboard_death.html\""
   ]
  },
  {
   "cell_type": "code",
   "execution_count": null,
   "metadata": {},
   "outputs": [],
   "source": [
    "with open(url1, encoding = 'utf-8') as file:\n",
    "    html = file.read()   \n",
    "soup = bs(html,'html.parser')"
   ]
  },
  {
   "cell_type": "code",
   "execution_count": null,
   "metadata": {},
   "outputs": [],
   "source": [
    "data = soup.find_all(\"tbody\")"
   ]
  },
  {
   "cell_type": "code",
   "execution_count": null,
   "metadata": {},
   "outputs": [],
   "source": [
    "a = data[0].find_all(\"tr\")"
   ]
  },
  {
   "cell_type": "code",
   "execution_count": null,
   "metadata": {
    "scrolled": false
   },
   "outputs": [],
   "source": [
    "list_index = len(a)-1;\n",
    "san_bernadino_list = [];\n",
    "b = a[0].find_all(\"p\")\n",
    "san_bernadino_list.append([b[0].text[2:], b[1].text, b[3].text, b[5].text])\n",
    "for index in range(list_index):\n",
    "    sb_value = a[index+1].find_all(\"p\");\n",
    "    temp_list = [];\n",
    "    for j in range(len(sb_value)):\n",
    "        if(j==0):\n",
    "            temp_list.append(sb_value[j].text[2:])\n",
    "        else:\n",
    "            temp_list.append(sb_value[j].text)\n",
    "    san_bernadino_list.append(temp_list)"
   ]
  },
  {
   "cell_type": "code",
   "execution_count": null,
   "metadata": {},
   "outputs": [],
   "source": [
    "san_bernadino_df= pd.DataFrame(san_bernadino_list)"
   ]
  },
  {
   "cell_type": "code",
   "execution_count": null,
   "metadata": {},
   "outputs": [],
   "source": [
    "san_bernadino_df.drop([0],inplace=True)"
   ]
  },
  {
   "cell_type": "code",
   "execution_count": null,
   "metadata": {},
   "outputs": [],
   "source": [
    "san_bernadino_df.head()"
   ]
  },
  {
   "cell_type": "code",
   "execution_count": null,
   "metadata": {},
   "outputs": [],
   "source": [
    "url2 = \"Resources/COVID-19 PC Surveillance Dashboard_death_files/saved_resource.html\"\n",
    "with open(url2, encoding = 'utf-8') as file:\n",
    "    html = file.read()   \n",
    "soup = bs(html,'html.parser')"
   ]
  },
  {
   "cell_type": "code",
   "execution_count": null,
   "metadata": {},
   "outputs": [],
   "source": [
    "data = soup.find_all(\"tbody\")"
   ]
  },
  {
   "cell_type": "code",
   "execution_count": null,
   "metadata": {},
   "outputs": [],
   "source": [
    "a = data[1].find_all(\"tr\")"
   ]
  },
  {
   "cell_type": "code",
   "execution_count": null,
   "metadata": {},
   "outputs": [],
   "source": [
    "list_index = len(a)-1;\n",
    "san_bernadino_list = [];\n",
    "b = a[0].find_all(\"p\")\n",
    "san_bernadino_list.append([b[0].text, b[1].text])\n",
    "for index in range(list_index):\n",
    "    sb_value = a[index+1].find_all(\"p\");\n",
    "    temp_list = [];\n",
    "    for j in range(len(sb_value)):\n",
    "        if(j==0):\n",
    "            temp_list.append(sb_value[j].text[0:])\n",
    "        else:\n",
    "            temp_list.append(sb_value[j].text)\n",
    "    san_bernadino_list.append(temp_list)"
   ]
  },
  {
   "cell_type": "code",
   "execution_count": null,
   "metadata": {},
   "outputs": [],
   "source": [
    "san_death_df = pd.DataFrame(san_bernadino_list)"
   ]
  },
  {
   "cell_type": "code",
   "execution_count": null,
   "metadata": {},
   "outputs": [],
   "source": [
    "san_death_df.drop([0],inplace=True)"
   ]
  },
  {
   "cell_type": "code",
   "execution_count": null,
   "metadata": {},
   "outputs": [],
   "source": [
    "san_death_df.head()"
   ]
  },
  {
   "cell_type": "code",
   "execution_count": null,
   "metadata": {},
   "outputs": [],
   "source": [
    "san_bernadino_df.columns=[\"Location\",\"Community\",\"Outbreak\",\"Total\"]"
   ]
  },
  {
   "cell_type": "code",
   "execution_count": null,
   "metadata": {},
   "outputs": [],
   "source": [
    "san_death_df.columns=[\"Location\",\"Deaths\"]"
   ]
  },
  {
   "cell_type": "code",
   "execution_count": null,
   "metadata": {},
   "outputs": [],
   "source": [
    "total_san_bernadino_df = san_bernadino_df.merge(san_death_df,how='left', on = 'Location')"
   ]
  },
  {
   "cell_type": "code",
   "execution_count": null,
   "metadata": {},
   "outputs": [],
   "source": [
    "total_san_bernadino_df.fillna(0, inplace=True)"
   ]
  },
  {
   "cell_type": "code",
   "execution_count": null,
   "metadata": {},
   "outputs": [],
   "source": [
    "total_san_bernadino_df[\"County\"]=\"\"\n",
    "total_san_bernadino_df.columns=[\"City\",\"Community\",\"Outbreak\",\"Confirmed_case\",\"Death_case\",\"County\"]\n",
    "total_san_bernadino_df.head()"
   ]
  },
  {
   "cell_type": "code",
   "execution_count": null,
   "metadata": {},
   "outputs": [],
   "source": [
    "for index,row in total_san_bernadino_df.iterrows():\n",
    "    total_san_bernadino_df.loc[index,\"County\"] = \"San Bernardino\""
   ]
  },
  {
   "cell_type": "code",
   "execution_count": null,
   "metadata": {},
   "outputs": [],
   "source": [
    "sanbernadino_county_df=total_san_bernadino_df[[\"County\",\"City\",\"Confirmed_case\",\"Death_case\"]]\n",
    "sanbernadino_county_df.head()"
   ]
  },
  {
   "cell_type": "markdown",
   "metadata": {},
   "source": [
    "# Total Case for sourthern california except imperial, ventura"
   ]
  },
  {
   "cell_type": "code",
   "execution_count": null,
   "metadata": {},
   "outputs": [],
   "source": [
    "total_city_df = pd.concat([orange_county_df,la_county_df,sandiego_county_df,riverside_county_df,sanbernadino_county_df,santabarbara_county_df])"
   ]
  },
  {
   "cell_type": "code",
   "execution_count": null,
   "metadata": {},
   "outputs": [],
   "source": [
    "total_city_df.columns=[\"county\",\"city\",\"totalcountconfirmed\",\"totalcountdeaths\"]\n",
    "total_city_df.head()"
   ]
  },
  {
   "cell_type": "code",
   "execution_count": null,
   "metadata": {},
   "outputs": [],
   "source": [
    "from sqlalchemy import create_engine"
   ]
  },
  {
   "cell_type": "code",
   "execution_count": null,
   "metadata": {},
   "outputs": [],
   "source": [
    "rds_connection_string = \"postgres:postgres@localhost:5432/covid-vaccine-plz\"\n",
    "engine = create_engine(f'postgresql://{rds_connection_string}')"
   ]
  },
  {
   "cell_type": "code",
   "execution_count": null,
   "metadata": {},
   "outputs": [],
   "source": [
    "engine.table_names()"
   ]
  },
  {
   "cell_type": "code",
   "execution_count": null,
   "metadata": {},
   "outputs": [],
   "source": [
    "total_city_df.to_sql(name='citywide_table',con=engine,if_exists='append',index=False)"
   ]
  },
  {
   "cell_type": "code",
   "execution_count": null,
   "metadata": {},
   "outputs": [],
   "source": [
    "pd.read_sql_query('select* from citywide_table',con=engine)"
   ]
  },
  {
   "cell_type": "code",
   "execution_count": null,
   "metadata": {},
   "outputs": [],
   "source": [
    "total_city_df.to_csv(\"./CSV/citywide.csv\", index=False)"
   ]
  },
  {
   "cell_type": "code",
   "execution_count": null,
   "metadata": {},
   "outputs": [],
   "source": []
  }
 ],
 "metadata": {
  "kernelspec": {
   "display_name": "Python 3",
   "language": "python",
   "name": "python3"
  },
  "language_info": {
   "codemirror_mode": {
    "name": "ipython",
    "version": 3
   },
   "file_extension": ".py",
   "mimetype": "text/x-python",
   "name": "python",
   "nbconvert_exporter": "python",
   "pygments_lexer": "ipython3",
   "version": "3.7.6"
  }
 },
 "nbformat": 4,
 "nbformat_minor": 4
}
